{
 "cells": [
  {
   "cell_type": "markdown",
   "id": "40f1b78b",
   "metadata": {},
   "source": [
    "# Evaluation — Métricas & Submissão API"
   ]
  },
  {
   "cell_type": "code",
   "execution_count": null,
   "id": "d0fdf670",
   "metadata": {},
   "outputs": [],
   "source": [
    "import os, joblib, numpy as np, pandas as pd\n",
    "from sklearn.metrics import classification_report\n",
    "\n",
    "DATA_RAW = \"../data/raw\"\n",
    "DATA_PROCESSED = \"../data/processed\"\n",
    "model = joblib.load(os.path.join(DATA_PROCESSED,\"model_baseline.joblib\"))\n",
    "X_valid = pd.read_csv(\"../data/interim/X_valid.csv\")\n",
    "y_valid = pd.read_csv(\"../data/interim/y_valid.csv\")\n",
    "target_cols = [\"falha_maquina\",\"FDF\",\"FDC\",\"FP\",\"FTE\",\"FA\"]\n",
    "y_pred = (model.predict_proba(X_valid) >= 0.5).astype(int)\n",
    "print(classification_report(y_valid[target_cols], y_pred, target_names=target_cols, zero_division=0))\n",
    "\n",
    "test_df = pd.read_csv(os.path.join(DATA_RAW, \"bootcamp_test.csv\"))\n",
    "proba = model.predict_proba(test_df)\n",
    "import numpy as np\n",
    "proba_mat = np.column_stack(proba) if isinstance(proba, list) else proba\n",
    "submission = pd.DataFrame(proba_mat, columns=target_cols)\n",
    "os.makedirs(DATA_PROCESSED, exist_ok=True)\n",
    "submission_path = os.path.join(DATA_PROCESSED, \"bootcamp_submission.csv\")\n",
    "submission.to_csv(submission_path, index=False)\n",
    "submission.head()"
   ]
  }
 ],
 "metadata": {},
 "nbformat": 4,
 "nbformat_minor": 5
}
