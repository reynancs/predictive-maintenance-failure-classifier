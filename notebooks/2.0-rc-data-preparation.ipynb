{
 "cells": [
  {
   "cell_type": "markdown",
   "metadata": {},
   "source": [
    "## 2. Data Preparation\n",
    "📒 `2.0-rc-data-preparation.ipynb`\n",
    "\n",
    "**Objetivo:** Transformar os dados brutos em um formato para uso em análise exploratória e modelagem.\n",
    "\n",
    "⚙️ **Atividades:**\n",
    "- Limpeza dos dados\n",
    "- Feature engineering\n",
    "- Encoding\n",
    "- Escalonamento\n",
    "- Split do dataset.\n",
    "- Salvamento do dataset limpo (`data/processed/`)\n"
   ]
  },
  {
   "cell_type": "markdown",
   "metadata": {},
   "source": [
    "## 📘 Dicionário de Dados  \n",
    "\n",
    "| CAMPO                  | FUNÇÃO (ATRIBUTO \\| ALVO) | TIPO DE VARIÁVEL           | DESCRIÇÃO |\n",
    "|-------------------------|---------------------------|----------------------------|-----------|\n",
    "| **id**                 | ID                 | Numérica (Inteiro)         | Identificador único das amostras do banco de dados. Não possui significado físico, usado apenas para indexação. |\n",
    "| **id_produto**         | ID                  | Categórica (String)        | Identificador do produto/máquina, combinação da variável `tipo` com um número sequencial. Representa diferentes unidades operacionais. |\n",
    "| **tipo**               | Atributo                  | Categórica (L, M, H)       | Tipo de produto/máquina, definido por categoria de carga: **L** (Low), **M** (Medium), **H** (High). No dataset AI4I, simula variação entre diferentes condições de produção. |\n",
    "| **temperatura_ar**     | Atributo                  | Numérica (Contínua, K)     | Temperatura ambiente medida em Kelvin. Importante para avaliar condições externas que influenciam o desempenho térmico da máquina. |\n",
    "| **temperatura_processo** | Atributo                | Numérica (Contínua, K)     | Temperatura do processo (interno à máquina). Valores mais altos estão associados a falhas de dissipação de calor (FDC). |\n",
    "| **umidade_relativa**   | Atributo                  | Numérica (Contínua, %)     | Umidade relativa do ar (%). Pode impactar falhas de isolamento elétrico e desgaste acelerado. |\n",
    "| **velocidade_rotacional** | Atributo               | Numérica (Contínua, RPM)   | Velocidade rotacional da máquina em rotações por minuto (RPM). Valores anormais podem indicar problemas de balanceamento ou sobrecarga. |\n",
    "| **torque**             | Atributo                  | Numérica (Contínua, Nm)    | Torque da máquina em Newton-metro. No dataset AI4I varia entre ~3.0 a 76.0 Nm. Torques elevados podem levar a falhas de potência (FP). |\n",
    "| **desgaste_da_ferramenta** | Atributo              | Numérica (Contínua, Min)   | Tempo acumulado de uso da ferramenta (minutos). Aumenta linearmente com a operação e está associado a falhas por desgaste (FDF). |\n",
    "| **falha_maquina**      | Alvo (Binário)            | Numérica (0/1)             | Variável binária indicando se houve falha geral na máquina (1) ou não (0). Serve como rótulo consolidado de falha. |\n",
    "| **FDF** (Falha Desgaste Ferramenta) | Alvo (Binário) | Numérica (0/1)            | Indica falha por desgaste excessivo da ferramenta de corte. Associada ao tempo de uso (`desgaste_da_ferramenta`) e às condições de torque/RPM. |\n",
    "| **FDC** (Falha Dissipação Calor)    | Alvo (Binário) | Numérica (0/1)            | Indica falha térmica por dissipação inadequada de calor. Relacionada principalmente a `temperatura_processo` elevada em relação à `temperatura_ar`. |\n",
    "| **FP** (Falha Potência)             | Alvo (Binário) | Numérica (0/1)            | Indica falha por potência insuficiente ou sobrecarga da máquina. Frequentemente correlacionada com variações de torque e rotação. |\n",
    "| **FTE** (Falha Tensão Excessiva)    | Alvo (Binário) | Numérica (0/1)            | Indica falha elétrica devido a sobretensão ou condições anômalas de operação elétrica. |\n",
    "| **FA** (Falha Aleatória)            | Alvo (Binário) | Numérica (0/1)            | Indica falha aleatória sem padrão determinístico. No dataset, essas falhas são geradas para simular eventos não explicados por variáveis medidas. |\n"
   ]
  },
  {
   "cell_type": "code",
   "execution_count": 3,
   "metadata": {},
   "outputs": [],
   "source": [
    "import pandas as pd\n",
    "import numpy as np\n",
    "import matplotlib.pyplot as plt\n",
    "import seaborn as sns\n",
    "import warnings\n",
    "\n",
    "%matplotlib inline\n",
    "\n",
    "# Setup para mostrar todas as colunas do dataframe\n",
    "pd.set_option('display.max_columns', None)"
   ]
  },
  {
   "cell_type": "code",
   "execution_count": 5,
   "metadata": {},
   "outputs": [
    {
     "data": {
      "text/html": [
       "<div>\n",
       "<style scoped>\n",
       "    .dataframe tbody tr th:only-of-type {\n",
       "        vertical-align: middle;\n",
       "    }\n",
       "\n",
       "    .dataframe tbody tr th {\n",
       "        vertical-align: top;\n",
       "    }\n",
       "\n",
       "    .dataframe thead th {\n",
       "        text-align: right;\n",
       "    }\n",
       "</style>\n",
       "<table border=\"1\" class=\"dataframe\">\n",
       "  <thead>\n",
       "    <tr style=\"text-align: right;\">\n",
       "      <th></th>\n",
       "      <th>id</th>\n",
       "      <th>id_produto</th>\n",
       "      <th>tipo</th>\n",
       "      <th>temperatura_ar</th>\n",
       "      <th>temperatura_processo</th>\n",
       "      <th>umidade_relativa</th>\n",
       "      <th>velocidade_rotacional</th>\n",
       "      <th>torque</th>\n",
       "      <th>desgaste_da_ferramenta</th>\n",
       "      <th>falha_maquina</th>\n",
       "      <th>FDF (Falha Desgaste Ferramenta)</th>\n",
       "      <th>FDC (Falha Dissipacao Calor)</th>\n",
       "      <th>FP (Falha Potencia)</th>\n",
       "      <th>FTE (Falha Tensao Excessiva)</th>\n",
       "      <th>FA (Falha Aleatoria)</th>\n",
       "    </tr>\n",
       "  </thead>\n",
       "  <tbody>\n",
       "    <tr>\n",
       "      <th>0</th>\n",
       "      <td>0</td>\n",
       "      <td>L56434</td>\n",
       "      <td>L</td>\n",
       "      <td>298.3</td>\n",
       "      <td>309.1</td>\n",
       "      <td>90.0</td>\n",
       "      <td>1616.0</td>\n",
       "      <td>31.1</td>\n",
       "      <td>195.0</td>\n",
       "      <td>não</td>\n",
       "      <td>False</td>\n",
       "      <td>False</td>\n",
       "      <td>Não</td>\n",
       "      <td>False</td>\n",
       "      <td>Não</td>\n",
       "    </tr>\n",
       "    <tr>\n",
       "      <th>1</th>\n",
       "      <td>1</td>\n",
       "      <td>L48741</td>\n",
       "      <td>L</td>\n",
       "      <td>298.2</td>\n",
       "      <td>308.4</td>\n",
       "      <td>90.0</td>\n",
       "      <td>1388.0</td>\n",
       "      <td>53.8</td>\n",
       "      <td>137.0</td>\n",
       "      <td>Não</td>\n",
       "      <td>False</td>\n",
       "      <td>False</td>\n",
       "      <td>Não</td>\n",
       "      <td>False</td>\n",
       "      <td>Não</td>\n",
       "    </tr>\n",
       "    <tr>\n",
       "      <th>2</th>\n",
       "      <td>2</td>\n",
       "      <td>L48850</td>\n",
       "      <td>L</td>\n",
       "      <td>298.2</td>\n",
       "      <td>307.8</td>\n",
       "      <td>90.0</td>\n",
       "      <td>1528.0</td>\n",
       "      <td>31.1</td>\n",
       "      <td>NaN</td>\n",
       "      <td>Não</td>\n",
       "      <td>N</td>\n",
       "      <td>False</td>\n",
       "      <td>Não</td>\n",
       "      <td>False</td>\n",
       "      <td>Não</td>\n",
       "    </tr>\n",
       "    <tr>\n",
       "      <th>3</th>\n",
       "      <td>3</td>\n",
       "      <td>M20947</td>\n",
       "      <td>M</td>\n",
       "      <td>300.9</td>\n",
       "      <td>310.8</td>\n",
       "      <td>90.0</td>\n",
       "      <td>1599.0</td>\n",
       "      <td>33.0</td>\n",
       "      <td>7.0</td>\n",
       "      <td>não</td>\n",
       "      <td>False</td>\n",
       "      <td>False</td>\n",
       "      <td>Não</td>\n",
       "      <td>False</td>\n",
       "      <td>não</td>\n",
       "    </tr>\n",
       "    <tr>\n",
       "      <th>4</th>\n",
       "      <td>4</td>\n",
       "      <td>L53849</td>\n",
       "      <td>L</td>\n",
       "      <td>-36.0</td>\n",
       "      <td>310.5</td>\n",
       "      <td>90.0</td>\n",
       "      <td>1571.0</td>\n",
       "      <td>33.9</td>\n",
       "      <td>NaN</td>\n",
       "      <td>não</td>\n",
       "      <td>N</td>\n",
       "      <td>False</td>\n",
       "      <td>não</td>\n",
       "      <td>False</td>\n",
       "      <td>Não</td>\n",
       "    </tr>\n",
       "  </tbody>\n",
       "</table>\n",
       "</div>"
      ],
      "text/plain": [
       "   id id_produto tipo  temperatura_ar  temperatura_processo  umidade_relativa  velocidade_rotacional  torque  desgaste_da_ferramenta falha_maquina FDF (Falha Desgaste Ferramenta) FDC (Falha Dissipacao Calor) FP (Falha Potencia)  FTE (Falha Tensao Excessiva) FA (Falha Aleatoria)\n",
       "0   0     L56434    L           298.3                 309.1              90.0                 1616.0    31.1                   195.0           não                           False                        False                 Não                         False                  Não\n",
       "1   1     L48741    L           298.2                 308.4              90.0                 1388.0    53.8                   137.0           Não                           False                        False                 Não                         False                  Não\n",
       "2   2     L48850    L           298.2                 307.8              90.0                 1528.0    31.1                     NaN           Não                               N                        False                 Não                         False                  Não\n",
       "3   3     M20947    M           300.9                 310.8              90.0                 1599.0    33.0                     7.0           não                           False                        False                 Não                         False                  não\n",
       "4   4     L53849    L           -36.0                 310.5              90.0                 1571.0    33.9                     NaN           não                               N                        False                 não                         False                  Não"
      ]
     },
     "execution_count": 5,
     "metadata": {},
     "output_type": "execute_result"
    }
   ],
   "source": [
    "# Carrega dados\n",
    "df = pd.read_csv(\"../data/raw/bootcamp_train.csv\")\n",
    "df.head()"
   ]
  },
  {
   "cell_type": "markdown",
   "metadata": {},
   "source": [
    "### 1. Limpeza dos Dados\n",
    "\n",
    "#### a) Valores Nulos"
   ]
  },
  {
   "cell_type": "code",
   "execution_count": null,
   "metadata": {},
   "outputs": [
    {
     "name": "stdout",
     "output_type": "stream",
     "text": [
      "<class 'pandas.core.frame.DataFrame'>\n",
      "RangeIndex: 35260 entries, 0 to 35259\n",
      "Data columns (total 15 columns):\n",
      " #   Column                           Non-Null Count  Dtype  \n",
      "---  ------                           --------------  -----  \n",
      " 0   id                               35260 non-null  int64  \n",
      " 1   id_produto                       35260 non-null  object \n",
      " 2   tipo                             35260 non-null  object \n",
      " 3   temperatura_ar                   34644 non-null  float64\n",
      " 4   temperatura_processo             34661 non-null  float64\n",
      " 5   umidade_relativa                 35260 non-null  float64\n",
      " 6   velocidade_rotacional            34509 non-null  float64\n",
      " 7   torque                           34637 non-null  float64\n",
      " 8   desgaste_da_ferramenta           34308 non-null  float64\n",
      " 9   falha_maquina                    35260 non-null  object \n",
      " 10  FDF (Falha Desgaste Ferramenta)  35260 non-null  object \n",
      " 11  FDC (Falha Dissipacao Calor)     35260 non-null  object \n",
      " 12  FP (Falha Potencia)              35260 non-null  object \n",
      " 13  FTE (Falha Tensao Excessiva)     35260 non-null  bool   \n",
      " 14  FA (Falha Aleatoria)             35260 non-null  object \n",
      "dtypes: bool(1), float64(6), int64(1), object(7)\n",
      "memory usage: 3.8+ MB\n"
     ]
    }
   ],
   "source": [
    "# Verifica dados\n",
    "df.info()"
   ]
  },
  {
   "cell_type": "code",
   "execution_count": 7,
   "metadata": {},
   "outputs": [
    {
     "data": {
      "text/plain": [
       "id                                   0\n",
       "id_produto                           0\n",
       "tipo                                 0\n",
       "temperatura_ar                     616\n",
       "temperatura_processo               599\n",
       "umidade_relativa                     0\n",
       "velocidade_rotacional              751\n",
       "torque                             623\n",
       "desgaste_da_ferramenta             952\n",
       "falha_maquina                        0\n",
       "FDF (Falha Desgaste Ferramenta)      0\n",
       "FDC (Falha Dissipacao Calor)         0\n",
       "FP (Falha Potencia)                  0\n",
       "FTE (Falha Tensao Excessiva)         0\n",
       "FA (Falha Aleatoria)                 0\n",
       "dtype: int64"
      ]
     },
     "execution_count": 7,
     "metadata": {},
     "output_type": "execute_result"
    }
   ],
   "source": [
    "# Verifica dados Nulos\n",
    "df.isnull().sum()"
   ]
  },
  {
   "cell_type": "code",
   "execution_count": null,
   "metadata": {},
   "outputs": [],
   "source": [
    "# Verifica dados Nulos\n",
    "df.isnull().sum()\n",
    "\n",
    "# Verifica dados Duplicados\n",
    "df.duplicated().sum()\n",
    "\n",
    "# Verifica dados Inconsistentes\n",
    "df.describe()\n",
    "\n",
    "# Verifica dados Outliers\n",
    "df.boxplot()"
   ]
  },
  {
   "cell_type": "code",
   "execution_count": null,
   "metadata": {},
   "outputs": [],
   "source": []
  },
  {
   "cell_type": "code",
   "execution_count": null,
   "metadata": {},
   "outputs": [],
   "source": [
    "# Salva o dataset tratado\n",
    "path_to_save = \"../data/processed/bootcamp_train_processed.csv\"\n",
    "df.to_csv(path_to_save, index=False)"
   ]
  }
 ],
 "metadata": {
  "kernelspec": {
   "display_name": ".venv",
   "language": "python",
   "name": "python3"
  },
  "language_info": {
   "codemirror_mode": {
    "name": "ipython",
    "version": 3
   },
   "file_extension": ".py",
   "mimetype": "text/x-python",
   "name": "python",
   "nbconvert_exporter": "python",
   "pygments_lexer": "ipython3",
   "version": "3.12.7"
  }
 },
 "nbformat": 4,
 "nbformat_minor": 2
}
