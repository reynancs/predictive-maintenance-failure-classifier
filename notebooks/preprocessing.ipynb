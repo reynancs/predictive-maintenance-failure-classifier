{
 "cells": [
  {
   "cell_type": "markdown",
   "id": "0e0c91be",
   "metadata": {},
   "source": [
    "# Data Preparation — Manutenção Preditiva (CNC)"
   ]
  },
  {
   "cell_type": "code",
   "execution_count": null,
   "id": "d87130b3",
   "metadata": {},
   "outputs": [],
   "source": [
    "import os, numpy as np, pandas as pd\n",
    "from sklearn.model_selection import train_test_split\n",
    "from sklearn.compose import ColumnTransformer\n",
    "from sklearn.preprocessing import StandardScaler, OneHotEncoder\n",
    "from sklearn.pipeline import Pipeline\n",
    "from sklearn.impute import SimpleImputer\n",
    "\n",
    "DATA_RAW = \"../data/raw\"\n",
    "DATA_INTERIM = \"../data/interim\"\n",
    "os.makedirs(DATA_INTERIM, exist_ok=True)\n",
    "df = pd.read_csv(os.path.join(DATA_RAW, \"bootcamp_train.csv\"))\n",
    "df[\"torque_por_rpm\"] = df[\"torque\"] / df[\"velocidade_rotacional\"].replace(0, np.nan)\n",
    "target_cols = [\"falha_maquina\",\"FDF\",\"FDC\",\"FP\",\"FTE\",\"FA\"]\n",
    "X = df.drop(columns=target_cols)\n",
    "Y = df[target_cols]\n",
    "num_cols = X.select_dtypes(include=[np.number]).columns.tolist()\n",
    "cat_cols = X.select_dtypes(exclude=[np.number]).columns.tolist()\n",
    "num_pipe = Pipeline([(\"imp\", SimpleImputer(strategy=\"median\")), (\"sc\", StandardScaler())])\n",
    "cat_pipe = Pipeline([(\"imp\", SimpleImputer(strategy=\"most_frequent\")), (\"ohe\", OneHotEncoder(handle_unknown=\"ignore\"))])\n",
    "preprocess = ColumnTransformer([(\"num\", num_pipe, num_cols), (\"cat\", cat_pipe, cat_cols)])\n",
    "X_train, X_valid, y_train, y_valid = train_test_split(X, Y, test_size=0.2, random_state=42, stratify=Y[\"falha_maquina\"])\n",
    "X_train.to_csv(os.path.join(DATA_INTERIM,\"X_train.csv\"),index=False)\n",
    "X_valid.to_csv(os.path.join(DATA_INTERIM,\"X_valid.csv\"),index=False)\n",
    "y_train.to_csv(os.path.join(DATA_INTERIM,\"y_train.csv\"),index=False)\n",
    "y_valid.to_csv(os.path.join(DATA_INTERIM,\"y_valid.csv\"),index=False)"
   ]
  }
 ],
 "metadata": {},
 "nbformat": 4,
 "nbformat_minor": 5
}
