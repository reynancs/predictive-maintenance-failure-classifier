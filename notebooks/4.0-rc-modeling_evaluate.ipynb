{
 "cells": [
  {
   "cell_type": "markdown",
   "id": "922d08c6",
   "metadata": {},
   "source": [
    "# 3. Modeling\n",
    "📒 `3.0-rc-modeling.ipynb`\n",
    "\n",
    "**Objetivo:** Construir, treinar e otimizar modelos preditivos capazes de identificar falhas nas máquinas e estimar a probabilidade associada a cada classe de defeito.\n",
    "\n",
    "⚙️ **Reflexão:**\n",
    "\n",
    "- **Pergunta de negócio:** “Dado o vetor de sensores, o equipamento falhará?”\n",
    "- **Custo típico:** um falso negativo (falhar e o modelo dizer “OK”) é pior que um falso positivo.\n",
    "- **Métricas avaliadas:** :\n",
    "    - Recall\n",
    "    - Precision\n",
    "    - F1 (f1)\n",
    "    - Accuracy"
   ]
  },
  {
   "cell_type": "code",
   "execution_count": null,
   "id": "b2a9884f",
   "metadata": {},
   "outputs": [],
   "source": [
    "# === Imports ===\n",
    "import numpy as np\n",
    "import pandas as pd\n",
    "import matplotlib.pyplot as plt\n",
    "from joblib import load\n",
    "\n",
    "# Pipeline\n",
    "from sklearn.pipeline import Pipeline\n",
    "# Cross-Validation\n",
    "from sklearn.model_selection import StratifiedKFold, cross_validate, GridSearchCV, RandomizedSearchCV\n",
    "from sklearn.preprocessing import LabelEncoder\n",
    "\n",
    "# Modelos\n",
    "from sklearn.linear_model import LogisticRegression # Regressão Logística   \n",
    "from sklearn.ensemble import RandomForestClassifier # Random Forest\n",
    "#from sklearn.utils.class_weight import compute_sample_weight\n",
    "from xgboost import XGBClassifier # XGBoost\n",
    "\n",
    "# Métricas de Avaliação\n",
    "from sklearn.metrics import classification_report, confusion_matrix, ConfusionMatrixDisplay\n",
    "\n",
    "# Carrega Funções Auxiliares\n",
    "import sys\n",
    "import os\n",
    "\n",
    "# Carrega as funções auxiliares\n",
    "sys.path.append(os.path.abspath(os.path.join(os.getcwd(), '..')))\n",
    "from src._utils import obter_medidas\n"
   ]
  },
  {
   "cell_type": "markdown",
   "id": "d9beeba3",
   "metadata": {},
   "source": [
    "##  0. Carregar artefatos e dados de treino e teste"
   ]
  },
  {
   "cell_type": "code",
   "execution_count": null,
   "id": "5073e373",
   "metadata": {},
   "outputs": [],
   "source": [
    "# Carrega os dados tratados\n",
    "X_train = pd.read_csv(\"../data/interim/X_train.csv\")\n",
    "X_test  = pd.read_csv(\"../data/interim/X_test.csv\")\n",
    "y_train_df = pd.read_csv(\"../data/interim/y_train.csv\")\n",
    "y_test_df  = pd.read_csv(\"../data/interim/y_test.csv\")\n",
    "\n",
    "# Carrega o artefato\n",
    "spec_path   = \"../models/artifacts/preprocessing_spec.joblib\"\n",
    "spec = load(spec_path)\n",
    "# Carrega o preprocessor\n",
    "preprocessor = spec.get(\"preprocessor\")\n",
    "RANDOM_SEED  = spec.get(\"random_seed\", 42)\n",
    "target_name  = spec.get(\"target_name\", \"falha_maquina\")\n",
    "\n",
    "# Se o artifact ainda aponta para 'tipo_falha', força para o binário e avisa:\n",
    "if target_name != \"falha_maquina\":\n",
    "    print(f\"[AVISO] target_name no artifato especificado = '{target_name}'. \"\n",
    "          f\"Ajustando para 'falha_maquina' para modelagem binária.\")\n",
    "    target_name = \"falha_maquina\"\n",
    "\n",
    "# Seleciona a coluna alvo corretamente e normaliza para 0/1 (pd.Series)\n",
    "y_train = (y_train_df[target_name] if target_name in y_train_df.columns else y_train_df.iloc[:, 0]).astype(int)\n",
    "y_test  = (y_test_df[target_name]  if target_name in y_test_df.columns  else y_test_df.iloc[:, 0]).astype(int)\n",
    "\n",
    "preprocessor\n"
   ]
  },
  {
   "cell_type": "markdown",
   "id": "d3cc51cb",
   "metadata": {},
   "source": [
    "## 1. Modeling\n",
    "\n",
    "- **Baseline:** LogisticRegression()\n",
    "- **Ensemble:**  RandomForestClassifier(), XGBClassifier()"
   ]
  },
  {
   "cell_type": "markdown",
   "id": "048b90c7",
   "metadata": {},
   "source": [
    "### i) Baseline - LogisticRegression() "
   ]
  },
  {
   "cell_type": "code",
   "execution_count": null,
   "id": "4604d4ac",
   "metadata": {},
   "outputs": [],
   "source": [
    "# Cross-Validation (5 folds) para evitar overfitting\n",
    "cv = StratifiedKFold(n_splits=5, shuffle=True, random_state=RANDOM_SEED)\n",
    "\n",
    "# Pipeline baseline - Considerando o class_weight='balanced' para compensar os desbalanceamentos da classe positiva (falha=1)\n",
    "lr_pipe_baseline = Pipeline(steps=[\n",
    "    (\"preprocessing\", preprocessor),\n",
    "    (\"model\", LogisticRegression(max_iter=1000, class_weight='balanced', random_state=RANDOM_SEED))\n",
    "])\n",
    "\n",
    "# Utilizando o cross_validate para incluir multiplos scores e reduzir o overfitting\n",
    "scores = cross_validate(\n",
    "    lr_pipe_baseline, \n",
    "    X_train, \n",
    "    y_train,\n",
    "    cv=cv,\n",
    "    scoring=['recall'],\n",
    "    return_train_score=True\n",
    "    )\n",
    "\n",
    "# Fit\n",
    "lr_pipe_baseline.fit(X_train, y_train)\n",
    "\n",
    "# Predições\n",
    "y_pred_lr_baseline = lr_pipe_baseline.predict(X_test)\n",
    "y_proba_lr_baseline = lr_pipe_baseline.predict_proba(X_test)\n"
   ]
  },
  {
   "cell_type": "markdown",
   "id": "18d2c9d5",
   "metadata": {},
   "source": [
    "### ii) LogisticRegression() com Otmização de Parâmetros"
   ]
  },
  {
   "cell_type": "code",
   "execution_count": null,
   "id": "4c6cf45e",
   "metadata": {},
   "outputs": [],
   "source": [
    "# Aplicar o preprocessamento aos dados\n",
    "X_train_transformed = preprocessor.fit_transform(X_train)\n",
    "\n",
    "# Cross-Validation (5 folds) para evitar overfitting\n",
    "cv = StratifiedKFold(n_splits=5, shuffle=True, random_state=RANDOM_SEED)\n",
    "\n",
    "# Parâmetros para o Grid Search (l1 lasso l2 ridge) para evitar overfitting\n",
    "param_grid = {\n",
    "    'C': [0.01, 0.1, 1],\n",
    "    'penalty': ['l2'],\n",
    "    'solver': ['lbfgs']   # exige entrada densa\n",
    "}\n",
    "\n",
    "# Grid Search para encontrar os melhores hiperparâmetros\n",
    "gs = GridSearchCV(\n",
    "    estimator=LogisticRegression(max_iter=1000, class_weight='balanced', random_state=RANDOM_SEED), \n",
    "    param_grid=param_grid, \n",
    "    cv=cv, \n",
    "    scoring='recall', # metrica alvo\n",
    "    n_jobs=1,  # Reduced parallelization to avoid serialization issues\n",
    "    refit=True\n",
    ") \n",
    "\n",
    "# Fit no Grid Search com os dados já transformados\n",
    "gs.fit(X_train_transformed, y_train)\n",
    "\n",
    "\n",
    "# Criar o pipeline final com os melhores parâmetros\n",
    "lr_pipe_tuned = Pipeline(steps=[\n",
    "    (\"preprocessing\", preprocessor),\n",
    "    (\"model\", LogisticRegression(max_iter=1000, class_weight='balanced', random_state=RANDOM_SEED))\n",
    "])\n",
    "\n",
    "# Treinar o pipeline final\n",
    "lr_pipe_tuned.fit(X_train, y_train)\n",
    "\n",
    "# Fazer predições\n",
    "y_pred_lr_tuned = lr_pipe_tuned.predict(X_test)\n",
    "y_proba_lr_tuned = lr_pipe_tuned.predict_proba(X_test)\n"
   ]
  },
  {
   "cell_type": "markdown",
   "id": "99de64f2",
   "metadata": {},
   "source": [
    "### iii) Random Forest com Otmizaão de Parâmetros"
   ]
  },
  {
   "cell_type": "code",
   "execution_count": null,
   "id": "a2691e84",
   "metadata": {},
   "outputs": [],
   "source": [
    "# Aplicar o preprocessamento aos dados\n",
    "X_train_transformed = preprocessor.fit_transform(X_train)\n",
    "\n",
    "# Cross-Validation\n",
    "cv = StratifiedKFold(n_splits=5, shuffle=True, random_state=RANDOM_SEED)\n",
    "\n",
    "# Parâmetros para o Random Search\n",
    "rf_param_grid = {\n",
    "    \"n_estimators\": [100, 200, 300],\n",
    "    \"max_depth\": [None, 8, 12, 16],\n",
    "    \"min_samples_leaf\": [1, 2, 4],\n",
    "    \"max_features\": [\"sqrt\", None],\n",
    "}\n",
    "\n",
    "# Random Search \n",
    "rf_search = RandomizedSearchCV(\n",
    "    RandomForestClassifier(random_state=RANDOM_SEED, class_weight='balanced', n_jobs=-1),\n",
    "    rf_param_grid,\n",
    "    n_iter=12, \n",
    "    cv=cv,\n",
    "    scoring=\"recall\",  \n",
    "    n_jobs=1,  # Reduzido para evitar problemas de serialização\n",
    "    random_state=RANDOM_SEED,\n",
    "    refit=True # refit para o melhor modelo\n",
    ")\n",
    "\n",
    "# Fit no Random Search com os dados já transformados\n",
    "rf_search.fit(X_train_transformed, y_train)\n",
    "\n",
    "# Criar o pipeline final com os melhores parâmetros\n",
    "best_pipe = Pipeline(steps=[\n",
    "    (\"preprocessing\", preprocessor),\n",
    "    (\"model\", RandomForestClassifier(**rf_search.best_params_, \n",
    "                                   random_state=RANDOM_SEED, \n",
    "                                   class_weight='balanced', \n",
    "                                   n_jobs=-1))\n",
    "])\n",
    "\n",
    "# Treinar o pipeline final\n",
    "best_pipe.fit(X_train, y_train)\n",
    "\n",
    "# Fazer predições\n",
    "y_pred_rf_tuned = best_pipe.predict(X_test)\n",
    "y_proba_rf_tuned = best_pipe.predict_proba(X_test)"
   ]
  },
  {
   "cell_type": "markdown",
   "id": "f8350a1d",
   "metadata": {},
   "source": [
    "### iv) Ensemble Models: XGBoost com Otmização de Parâmetros"
   ]
  },
  {
   "cell_type": "code",
   "execution_count": 25,
   "id": "ac774d66",
   "metadata": {},
   "outputs": [],
   "source": [
    "# Primeiro, vamos aplicar o preprocessamento aos dados\n",
    "X_train_transformed = preprocessor.fit_transform(X_train)\n",
    "\n",
    "# Cross-Validation\n",
    "cv = StratifiedKFold(n_splits=3, shuffle=True, random_state=RANDOM_SEED)\n",
    "\n",
    "# === Lidar com desbalanceamento para XGB ===\n",
    "pos = (y_train == 1).sum()\n",
    "neg = (y_train == 0).sum()\n",
    "scale_pos_weight = neg / max(pos, 1)\n",
    "\n",
    "# Parâmetros para o Random Search sem o prefixo 'model__'\n",
    "xgb_dist = {\n",
    "    \"n_estimators\": [200, 400, 600],\n",
    "    \"max_depth\": [4, 6, 8],\n",
    "    \"learning_rate\": [0.05, 0.1, 0.2],\n",
    "    \"subsample\": [0.7, 1.0],\n",
    "    \"colsample_bytree\": [0.7, 1.0],\n",
    "}\n",
    "\n",
    "# Random Search \n",
    "xgb_search = RandomizedSearchCV(\n",
    "    XGBClassifier(\n",
    "        objective=\"binary:logistic\",\n",
    "        eval_metric=\"logloss\",\n",
    "        tree_method=\"hist\",\n",
    "        random_state=RANDOM_SEED,\n",
    "        n_jobs=-1,\n",
    "        scale_pos_weight=scale_pos_weight\n",
    "    ),\n",
    "    xgb_dist,\n",
    "    n_iter=12,\n",
    "    cv=cv,\n",
    "    scoring=\"recall\",\n",
    "    n_jobs=1,  # Reduzido para evitar problemas de serialização\n",
    "    random_state=RANDOM_SEED,\n",
    "    refit=True\n",
    ")\n",
    "\n",
    "# Fit no Random Search com os dados já transformados\n",
    "xgb_search.fit(X_train_transformed, y_train)\n",
    "\n",
    "# Criar o pipeline final com os melhores parâmetros\n",
    "best_pipe = Pipeline(steps=[\n",
    "    (\"preprocessing\", preprocessor),\n",
    "    (\"model\", XGBClassifier(\n",
    "        **xgb_search.best_params_,\n",
    "        objective=\"binary:logistic\",\n",
    "        eval_metric=\"logloss\",\n",
    "        tree_method=\"hist\",\n",
    "        random_state=RANDOM_SEED,\n",
    "        n_jobs=-1,\n",
    "        scale_pos_weight=scale_pos_weight\n",
    "    ))\n",
    "])\n",
    "\n",
    "# Treinar o pipeline final\n",
    "best_pipe.fit(X_train, y_train)\n",
    "\n",
    "# Fazer predições\n",
    "y_pred_xgb_tuned = best_pipe.predict(X_test)\n",
    "y_proba_xgb_tuned = best_pipe.predict_proba(X_test)[:,1]"
   ]
  },
  {
   "cell_type": "markdown",
   "id": "ce46bc9a",
   "metadata": {},
   "source": [
    "## 2. Avaliação dos Modelos"
   ]
  },
  {
   "cell_type": "markdown",
   "id": "700e562f",
   "metadata": {},
   "source": [
    "#### Obtendo as medidas das métricas principais:\n",
    "- **Primárias:**\n",
    "    - Recall;\n",
    "    - F1-Score;\n",
    "    - Precision;\n",
    "\n",
    "- **Secundária:**\n",
    "    - Acuraccy;"
   ]
  },
  {
   "cell_type": "code",
   "execution_count": 27,
   "id": "12d79c07",
   "metadata": {},
   "outputs": [
    {
     "name": "stdout",
     "output_type": "stream",
     "text": [
      "LogisticRegression() Baseline\n",
      "--------------------------------\n",
      "Classification Report:\n",
      "              precision    recall  f1-score   support\n",
      "\n",
      "           0     0.9968    0.7697    0.8687      6539\n",
      "           1     0.0546    0.8447    0.1026       103\n",
      "\n",
      "    accuracy                         0.7709      6642\n",
      "   macro avg     0.5257    0.8072    0.4856      6642\n",
      "weighted avg     0.9822    0.7709    0.8568      6642\n",
      "\n",
      "--------------------------------\n",
      "LogisticRegression() Hyperparameters tuned\n",
      "--------------------------------\n",
      "Classification Report:\n",
      "              precision    recall  f1-score   support\n",
      "\n",
      "           0     0.9968    0.7697    0.8687      6539\n",
      "           1     0.0546    0.8447    0.1026       103\n",
      "\n",
      "    accuracy                         0.7709      6642\n",
      "   macro avg     0.5257    0.8072    0.4856      6642\n",
      "weighted avg     0.9822    0.7709    0.8568      6642\n",
      "\n",
      "--------------------------------\n"
     ]
    }
   ],
   "source": [
    "# Baseline - LogisticRegression() \n",
    "# Obter as medidas das métricas principais:\n",
    "\n",
    "print(\"LogisticRegression() Baseline\")\n",
    "print(\"--------------------------------\")\n",
    "print(\"Classification Report:\")\n",
    "print(classification_report(y_test, y_pred_lr_baseline, digits=4, zero_division=0))\n",
    "print(\"--------------------------------\")\n",
    "\n",
    "print(\"LogisticRegression() Hyperparameters tuned\")\n",
    "print(\"--------------------------------\")\n",
    "print(\"Classification Report:\")\n",
    "print(classification_report(y_test, y_pred_lr_tuned, digits=4, zero_division=0))\n",
    "print(\"--------------------------------\")\n",
    "\n"
   ]
  },
  {
   "cell_type": "code",
   "execution_count": 28,
   "id": "44be7671",
   "metadata": {},
   "outputs": [
    {
     "name": "stdout",
     "output_type": "stream",
     "text": [
      "RandomForestClassifier() Hyperparameters tuned\n",
      "--------------------------------\n",
      "Classification Report:\n",
      "              precision    recall  f1-score   support\n",
      "\n",
      "           0     0.9938    0.9622    0.9778      6539\n",
      "           1     0.2058    0.6214    0.3092       103\n",
      "\n",
      "    accuracy                         0.9569      6642\n",
      "   macro avg     0.5998    0.7918    0.6435      6642\n",
      "weighted avg     0.9816    0.9569    0.9674      6642\n",
      "\n",
      "--------------------------------\n",
      "XGBoost() Hyperparameters tuned\n",
      "--------------------------------\n",
      "Classification Report:\n",
      "              precision    recall  f1-score   support\n",
      "\n",
      "           0     0.9955    0.9531    0.9738      6539\n",
      "           1     0.1963    0.7282    0.3093       103\n",
      "\n",
      "    accuracy                         0.9496      6642\n",
      "   macro avg     0.5959    0.8406    0.6416      6642\n",
      "weighted avg     0.9831    0.9496    0.9635      6642\n",
      "\n",
      "--------------------------------\n"
     ]
    }
   ],
   "source": [
    "\n",
    "print(\"RandomForestClassifier() Hyperparameters tuned\")\n",
    "print(\"--------------------------------\")\n",
    "print(\"Classification Report:\")\n",
    "print(classification_report(y_test, y_pred_rf_tuned, digits=4, zero_division=0))\n",
    "print(\"--------------------------------\")\n",
    "\n",
    "print(\"XGBoost() Hyperparameters tuned\")\n",
    "print(\"--------------------------------\")\n",
    "print(\"Classification Report:\")\n",
    "print(classification_report(y_test, y_pred_xgb_tuned, digits=4, zero_division=0))\n",
    "print(\"--------------------------------\")"
   ]
  },
  {
   "cell_type": "code",
   "execution_count": 29,
   "id": "1a60dfaf",
   "metadata": {},
   "outputs": [
    {
     "name": "stdout",
     "output_type": "stream",
     "text": [
      "Matriz de Confusão\n",
      "--------------------------------\n",
      "LogisticRegression() Baseline\n",
      "--------------------------------\n"
     ]
    },
    {
     "data": {
      "image/png": "[encoded data removed]",
      "text/plain": [
       "<Figure size 640x480 with 2 Axes>"
      ]
     },
     "metadata": {},
     "output_type": "display_data"
    },
    {
     "name": "stdout",
     "output_type": "stream",
     "text": [
      "--------------------------------\n",
      "\n",
      "LogisticRegression() Baseline\n",
      "--------------------------------\n"
     ]
    },
    {
     "data": {
      "image/png": "[encoded data removed]",
      "text/plain": [
       "<Figure size 640x480 with 2 Axes>"
      ]
     },
     "metadata": {},
     "output_type": "display_data"
    },
    {
     "name": "stdout",
     "output_type": "stream",
     "text": [
      "--------------------------------\n",
      "RandomForestClassifier() Hyperparameters tuned\n",
      "--------------------------------\n"
     ]
    },
    {
     "data": {
      "image/png": "[encoded data removed]",
      "text/plain": [
       "<Figure size 640x480 with 2 Axes>"
      ]
     },
     "metadata": {},
     "output_type": "display_data"
    },
    {
     "name": "stdout",
     "output_type": "stream",
     "text": [
      "--------------------------------\n",
      "XGBoost() Hyperparameters tuned\n",
      "--------------------------------\n"
     ]
    },
    {
     "data": {
      "image/png": "[encoded data removed]",
      "text/plain": [
       "<Figure size 640x480 with 2 Axes>"
      ]
     },
     "metadata": {},
     "output_type": "display_data"
    },
    {
     "name": "stdout",
     "output_type": "stream",
     "text": [
      "--------------------------------\n"
     ]
    }
   ],
   "source": [
    "# Matriz de Confusão\n",
    "print(\"Matriz de Confusão\")\n",
    "print(\"--------------------------------\")\n",
    "print(\"LogisticRegression() Baseline\")\n",
    "print(\"--------------------------------\")\n",
    "cm = confusion_matrix(y_test, y_pred_lr_baseline)\n",
    "disp = ConfusionMatrixDisplay(confusion_matrix=cm, display_labels=['Falha', 'Não Falha'])\n",
    "disp.plot(cmap='Blues')\n",
    "plt.title(\"Matriz de Confusão\")\n",
    "plt.tight_layout()\n",
    "plt.show()\n",
    "print(\"--------------------------------\\n\")\n",
    "\n",
    "print(\"LogisticRegression() Baseline\")\n",
    "print(\"--------------------------------\")\n",
    "cm = confusion_matrix(y_test, y_pred_lr_tuned)\n",
    "disp = ConfusionMatrixDisplay(confusion_matrix=cm, display_labels=['Falha', 'Não Falha'])\n",
    "disp.plot(cmap='Blues')\n",
    "plt.title(\"Matriz de Confusão\")\n",
    "plt.tight_layout()\n",
    "plt.show()\n",
    "print(\"--------------------------------\")\n",
    "\n",
    "print(\"RandomForestClassifier() Hyperparameters tuned\")\n",
    "print(\"--------------------------------\")\n",
    "cm = confusion_matrix(y_test, y_pred_rf_tuned)\n",
    "disp = ConfusionMatrixDisplay(confusion_matrix=cm, display_labels=['Falha', 'Não Falha'])\n",
    "disp.plot(cmap='Blues')\n",
    "plt.title(\"Matriz de Confusão\")\n",
    "plt.tight_layout()\n",
    "plt.show()\n",
    "print(\"--------------------------------\")\n",
    "\n",
    "\n",
    "print(\"XGBoost() Hyperparameters tuned\")\n",
    "print(\"--------------------------------\")\n",
    "cm = confusion_matrix(y_test, y_pred_xgb_tuned)\n",
    "disp = ConfusionMatrixDisplay(confusion_matrix=cm, display_labels=['Falha', 'Não Falha'])\n",
    "disp.plot(cmap='Blues')\n",
    "plt.title(\"Matriz de Confusão\")\n",
    "plt.tight_layout()\n",
    "plt.show()\n",
    "print(\"--------------------------------\")"
   ]
  },
  {
   "cell_type": "markdown",
   "id": "b5ce0e91",
   "metadata": {},
   "source": [
    "**Insights:**\n",
    "- "
   ]
  },
  {
   "cell_type": "markdown",
   "id": "f1a0b15f",
   "metadata": {},
   "source": [
    "- **Baseline (Logistic Regression)**\n",
    "    - Sensibilidade alta para falhas (recall=0.8447 → apenas 16 falhas reais não detectadas).\n",
    "    - Precisão muito baixa (0.0546): de 1.593 alertas de falha gerados (1506 FP + 87 TP), apenas 87 eram falhas reais → ~94,5% falsos positivos.\n",
    "    - 24% do conjunto foi sinalizado como falha — alto para operação.\n",
    "    - O tuning não alterou o comportamento\n",
    "    - Insight: Inviável na prática pelo volume de falsos alarmes.\n",
    "    - O gargalo continua sendo a precisão do positivo\n",
    "    - Oportunidade: Ajuste do limiar de decisão (thereshold)"
   ]
  },
  {
   "cell_type": "markdown",
   "id": "d62d9b1f",
   "metadata": {},
   "source": [
    "## Explicabilidade do Modelo (XAi)\n",
    "- Usado a biblioteca `explainerdashboard` como ferramenta de explicabilidade do modelo."
   ]
  },
  {
   "cell_type": "code",
   "execution_count": null,
   "id": "9a127589",
   "metadata": {},
   "outputs": [
    {
     "name": "stdout",
     "output_type": "stream",
     "text": [
      "splitting pipeline...\n",
      "Detected sklearn/imblearn Pipeline and succesfully extracted final output dataframe with column names and final model...\n",
      "Detected XGBClassifier model: Changing class type to XGBClassifierExplainer...\n",
      "Note: model_output=='probability'. For XGBClassifier shap values normally get calculated against X_background, but paramater X_background=None, so using X instead\n",
      "Generating self.shap_explainer = shap.TreeExplainer(model, X, model_output='probability', feature_perturbation='interventional')...\n",
      "Note: Shap interaction values will not be available. If shap values in probability space are not necessary you can pass model_output='logodds' to get shap values in logodds without the need for a background dataset and also working shap interaction values...\n",
      "Building ExplainerDashboard..\n",
      "WARNING: the number of idxs (=6642) > max_idxs_in_dropdown(=1000). However with your installed version of dash(2.18.2) dropdown search may not work smoothly. You can downgrade to `pip install dash==2.6.2` which should work better for now...\n",
      "Detected notebook environment, consider setting mode='external', mode='inline' or mode='jupyterlab' to keep the notebook interactive while the dashboard is running...\n",
      "Generating layout...\n",
      "Calculating shap values...\n"
     ]
    },
    {
     "name": "stderr",
     "output_type": "stream",
     "text": [
      "c:\\Users\\reyna\\_python_projects\\personal\\portfolio-projects\\predictive-maintenance-failure-classifier\\.venv\\Lib\\site-packages\\explainerdashboard\\dashboards.py:649: UserWarning: pkg_resources is deprecated as an API. See https://setuptools.pypa.io/en/latest/pkg_resources.html. The pkg_resources package is slated for removal as early as 2025-11-30. Refrain from using this package or pin to Setuptools<81.\n",
      "100%|===================| 6634/6642 [01:01<00:00]        "
     ]
    },
    {
     "name": "stdout",
     "output_type": "stream",
     "text": [
      "Calculating prediction probabilities...\n",
      "Calculating metrics...\n",
      "Calculating confusion matrices...\n",
      "Calculating classification_dfs...\n",
      "Calculating roc auc curves...\n",
      "Calculating pr auc curves...\n",
      "Calculating liftcurve_dfs...\n",
      "Calculating dependencies...\n",
      "Calculating permutation importances (if slow, try setting n_jobs parameter)...\n",
      "Calculating pred_percentiles...\n",
      "Calculating predictions...\n",
      "Reminder: you can store the explainer (including calculated dependencies) with explainer.dump('explainer.joblib') and reload with e.g. ClassifierExplainer.from_file('explainer.joblib')\n",
      "Registering callbacks...\n",
      "Starting ExplainerDashboard on http://192.168.3.133:8050\n"
     ]
    }
   ],
   "source": [
    "from explainerdashboard import ClassifierExplainer, ExplainerDashboard\n",
    "\n",
    "# Criar o explainer usando o pipeline final treinado (best_pipe) ao invés do objeto de busca (xgb_search)\n",
    "explainer = ClassifierExplainer(best_pipe, X_test, y_test) #best_pipe\n",
    "\n",
    "dashboard = ExplainerDashboard(explainer, \n",
    "                               title=\"Predictive Maintenance: Classifier Explainer XGBoost\",\n",
    "                               whatif=False,\n",
    "                               shap_interaction=False,\n",
    "                               decision_trees=False)\n",
    "\n",
    "dashboard.run(host='127.0.0.1', \n",
    "             port=8050,  \n",
    "             use_waitress=True) \n",
    "\n",
    "dashboard.save_html(\"../reports/classifier_explainer/XGBoost.html\")"
   ]
  }
 ],
 "metadata": {
  "kernelspec": {
   "display_name": ".venv",
   "language": "python",
   "name": "python3"
  },
  "language_info": {
   "codemirror_mode": {
    "name": "ipython",
    "version": 3
   },
   "file_extension": ".py",
   "mimetype": "text/x-python",
   "name": "python",
   "nbconvert_exporter": "python",
   "pygments_lexer": "ipython3",
   "version": "3.12.7"
  }
 },
 "nbformat": 4,
 "nbformat_minor": 5
}
