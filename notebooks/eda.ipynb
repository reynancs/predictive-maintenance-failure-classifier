{
 "cells": [
  {
   "cell_type": "markdown",
   "id": "da47ba24",
   "metadata": {},
   "source": []
  },
  {
   "cell_type": "code",
   "execution_count": null,
   "id": "31f297fa",
   "metadata": {},
   "outputs": [],
   "source": [
    "# Plot histograms of select features\n",
    "fig, axes = plt.subplots(2, 3, figsize=(18,10))\n",
    "columns = ['temperatura_ar', 'temperatura_processo', 'velocidade_rotacional', 'torque', 'desgaste_da_ferramenta']\n",
    "data=df.copy()\n",
    "for ind, item in enumerate (columns):\n",
    "    column = columns[ind]\n",
    "    df_column = data[column]\n",
    "    df_column.hist(ax = axes[ind%2][ind//2], bins=32).set_title(item)\n",
    "fig.supylabel('count')\n",
    "fig.subplots_adjust(hspace=0.2)\n",
    "fig.delaxes(axes[1,2])\n"
   ]
  }
 ],
 "metadata": {
  "language_info": {
   "name": "python"
  }
 },
 "nbformat": 4,
 "nbformat_minor": 5
}
