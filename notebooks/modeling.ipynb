{
 "cells": [
  {
   "cell_type": "markdown",
   "id": "922d08c6",
   "metadata": {},
   "source": [
    "# Modeling — Manutenção Preditiva (CNC)"
   ]
  },
  {
   "cell_type": "code",
   "execution_count": null,
   "id": "3ac2601f",
   "metadata": {},
   "outputs": [],
   "source": [
    "import os, joblib, numpy as np, pandas as pd\n",
    "from sklearn.linear_model import LogisticRegression\n",
    "from sklearn.multiclass import OneVsRestClassifier\n",
    "from sklearn.pipeline import Pipeline\n",
    "from sklearn.compose import ColumnTransformer\n",
    "from sklearn.preprocessing import OneHotEncoder, StandardScaler\n",
    "from sklearn.impute import SimpleImputer\n",
    "from sklearn.metrics import classification_report\n",
    "\n",
    "DATA_INTERIM = \"../data/interim\"\n",
    "DATA_PROCESSED = \"../data/processed\"\n",
    "os.makedirs(DATA_PROCESSED, exist_ok=True)\n",
    "\n",
    "X_train = pd.read_csv(os.path.join(DATA_INTERIM,\"X_train.csv\"))\n",
    "X_valid = pd.read_csv(os.path.join(DATA_INTERIM,\"X_valid.csv\"))\n",
    "y_train = pd.read_csv(os.path.join(DATA_INTERIM,\"y_train.csv\"))\n",
    "y_valid = pd.read_csv(os.path.join(DATA_INTERIM,\"y_valid.csv\"))\n",
    "target_cols = [\"falha_maquina\",\"FDF\",\"FDC\",\"FP\",\"FTE\",\"FA\"]\n",
    "num_cols = X_train.select_dtypes(include=[np.number]).columns.tolist()\n",
    "cat_cols = X_train.select_dtypes(exclude=[np.number]).columns.tolist()\n",
    "\n",
    "num_pipe = Pipeline([(\"imp\", SimpleImputer(strategy=\"median\")), (\"sc\", StandardScaler())])\n",
    "cat_pipe = Pipeline([(\"imp\", SimpleImputer(strategy=\"most_frequent\")), (\"ohe\", OneHotEncoder(handle_unknown=\"ignore\"))])\n",
    "preprocess = ColumnTransformer([(\"num\", num_pipe, num_cols), (\"cat\", cat_pipe, cat_cols)])\n",
    "\n",
    "baseline = Pipeline([(\"prep\", preprocess), (\"clf\", OneVsRestClassifier(LogisticRegression(max_iter=200)))])\n",
    "baseline.fit(X_train, y_train[target_cols])\n",
    "y_pred = (baseline.predict_proba(X_valid) >= 0.5).astype(int)\n",
    "print(classification_report(y_valid[target_cols], y_pred, target_names=target_cols, zero_division=0))\n",
    "joblib.dump(baseline, os.path.join(DATA_PROCESSED,\"model_baseline.joblib\"))"
   ]
  }
 ],
 "metadata": {},
 "nbformat": 4,
 "nbformat_minor": 5
}
