{
 "cells": [
  {
   "cell_type": "markdown",
   "id": "da47ba24",
   "metadata": {},
   "source": [
    "# Análise Exploratória de Dados (EDA) \n",
    "📒 `3.0-rc-eda.ipynb`\n",
    "\n",
    "**Objetivo:** Explorar os dados para identificar padrões, tendências, relações entre variáveis e potenciais problemas que possam impactar a modelagem.\n",
    "\n",
    "**Atividades**:\n",
    "- Analisar distribuições das variáveis numéricas e categóricas (histogramas, boxplots, countplots)\n",
    "- Identificar correlações entre variáveis (heatmaps, scatterplots)\n",
    "- Explorar relações entre atributos e a variável-alvo (falha_maquina e tipos de falha: FDF, FDC, FP, FTE, FA)\n",
    "- Verificar presença de outliers e anomalias\n",
    "- Avaliar impactos de valores ausentes e possíveis vieses nos dados\n",
    "- Explorar balanceamento das classes (análise da distribuição da variável-alvo)\n",
    "- Investigar hipóteses iniciais e extrair insights sobre o comportamento dos sensores e falhas\n",
    "- Documentar achados relevantes para orientar o pré-processamento e a modelagem"
   ]
  },
  {
   "cell_type": "code",
   "execution_count": 1,
   "id": "753d35fd",
   "metadata": {},
   "outputs": [],
   "source": [
    "# Carrega Bibliotecas\n",
    "import pandas as pd\n",
    "import numpy as np\n",
    "import matplotlib.pyplot as plt\n",
    "import seaborn as sns\n",
    "\n",
    "import sys\n",
    "import os\n",
    "import warnings\n",
    "sys.path.append(os.path.abspath(os.path.join(os.getcwd(), '..')))\n",
    "from src._utils import plot_distribution_and_boxplot_hue_safe, plot_pareto\n",
    "\n",
    "# Configura o matplotlib para mostrar gráficos inline\n",
    "%matplotlib inline\n",
    "\n",
    "# Setup para mostrar todas as colunas do dataframe\n",
    "pd.set_option('display.max_columns', None)\n",
    "pd.set_option('display.width', 1000)\n",
    "\n",
    "# Desabilita mensagens de FutureWarnings\n",
    "warnings.filterwarnings(\"ignore\", category=FutureWarning)"
   ]
  },
  {
   "cell_type": "markdown",
   "id": "5f220306",
   "metadata": {},
   "source": [
    "## 1. Preparando dados para Análise"
   ]
  },
  {
   "cell_type": "code",
   "execution_count": 2,
   "id": "2e815a06",
   "metadata": {},
   "outputs": [
    {
     "name": "stdout",
     "output_type": "stream",
     "text": [
      "N° de linhas e colunas:  (33236, 13)\n"
     ]
    },
    {
     "data": {
      "text/html": [
       "<div>\n",
       "<style scoped>\n",
       "    .dataframe tbody tr th:only-of-type {\n",
       "        vertical-align: middle;\n",
       "    }\n",
       "\n",
       "    .dataframe tbody tr th {\n",
       "        vertical-align: top;\n",
       "    }\n",
       "\n",
       "    .dataframe thead th {\n",
       "        text-align: right;\n",
       "    }\n",
       "</style>\n",
       "<table border=\"1\" class=\"dataframe\">\n",
       "  <thead>\n",
       "    <tr style=\"text-align: right;\">\n",
       "      <th></th>\n",
       "      <th>tipo</th>\n",
       "      <th>temperatura_ar_[K]</th>\n",
       "      <th>temperatura_processo_[K]</th>\n",
       "      <th>umidade_relativa_[%]</th>\n",
       "      <th>velocidade_rotacional_[rpm]</th>\n",
       "      <th>torque_[Nm]</th>\n",
       "      <th>desgaste_da_ferramenta_[mm]</th>\n",
       "      <th>falha_maquina</th>\n",
       "      <th>FDF</th>\n",
       "      <th>FDC</th>\n",
       "      <th>FP</th>\n",
       "      <th>FTE</th>\n",
       "      <th>FA</th>\n",
       "    </tr>\n",
       "  </thead>\n",
       "  <tbody>\n",
       "    <tr>\n",
       "      <th>0</th>\n",
       "      <td>L</td>\n",
       "      <td>298.3</td>\n",
       "      <td>309.1</td>\n",
       "      <td>90.0</td>\n",
       "      <td>1616.0</td>\n",
       "      <td>31.1</td>\n",
       "      <td>195.0</td>\n",
       "      <td>0</td>\n",
       "      <td>0</td>\n",
       "      <td>0</td>\n",
       "      <td>0</td>\n",
       "      <td>0</td>\n",
       "      <td>0</td>\n",
       "    </tr>\n",
       "    <tr>\n",
       "      <th>1</th>\n",
       "      <td>L</td>\n",
       "      <td>298.2</td>\n",
       "      <td>308.4</td>\n",
       "      <td>90.0</td>\n",
       "      <td>1388.0</td>\n",
       "      <td>53.8</td>\n",
       "      <td>137.0</td>\n",
       "      <td>0</td>\n",
       "      <td>0</td>\n",
       "      <td>0</td>\n",
       "      <td>0</td>\n",
       "      <td>0</td>\n",
       "      <td>0</td>\n",
       "    </tr>\n",
       "    <tr>\n",
       "      <th>2</th>\n",
       "      <td>L</td>\n",
       "      <td>298.2</td>\n",
       "      <td>307.8</td>\n",
       "      <td>90.0</td>\n",
       "      <td>1528.0</td>\n",
       "      <td>31.1</td>\n",
       "      <td>94.0</td>\n",
       "      <td>0</td>\n",
       "      <td>0</td>\n",
       "      <td>0</td>\n",
       "      <td>0</td>\n",
       "      <td>0</td>\n",
       "      <td>0</td>\n",
       "    </tr>\n",
       "    <tr>\n",
       "      <th>3</th>\n",
       "      <td>M</td>\n",
       "      <td>300.9</td>\n",
       "      <td>310.8</td>\n",
       "      <td>90.0</td>\n",
       "      <td>1599.0</td>\n",
       "      <td>33.0</td>\n",
       "      <td>7.0</td>\n",
       "      <td>0</td>\n",
       "      <td>0</td>\n",
       "      <td>0</td>\n",
       "      <td>0</td>\n",
       "      <td>0</td>\n",
       "      <td>0</td>\n",
       "    </tr>\n",
       "    <tr>\n",
       "      <th>4</th>\n",
       "      <td>L</td>\n",
       "      <td>299.6</td>\n",
       "      <td>310.5</td>\n",
       "      <td>90.0</td>\n",
       "      <td>1571.0</td>\n",
       "      <td>33.9</td>\n",
       "      <td>94.0</td>\n",
       "      <td>0</td>\n",
       "      <td>0</td>\n",
       "      <td>0</td>\n",
       "      <td>0</td>\n",
       "      <td>0</td>\n",
       "      <td>0</td>\n",
       "    </tr>\n",
       "  </tbody>\n",
       "</table>\n",
       "</div>"
      ],
      "text/plain": [
       "  tipo  temperatura_ar_[K]  temperatura_processo_[K]  umidade_relativa_[%]  velocidade_rotacional_[rpm]  torque_[Nm]  desgaste_da_ferramenta_[mm]  falha_maquina  FDF  FDC  FP  FTE  FA\n",
       "0    L               298.3                     309.1                  90.0                       1616.0         31.1                        195.0              0    0    0   0    0   0\n",
       "1    L               298.2                     308.4                  90.0                       1388.0         53.8                        137.0              0    0    0   0    0   0\n",
       "2    L               298.2                     307.8                  90.0                       1528.0         31.1                         94.0              0    0    0   0    0   0\n",
       "3    M               300.9                     310.8                  90.0                       1599.0         33.0                          7.0              0    0    0   0    0   0\n",
       "4    L               299.6                     310.5                  90.0                       1571.0         33.9                         94.0              0    0    0   0    0   0"
      ]
     },
     "execution_count": 2,
     "metadata": {},
     "output_type": "execute_result"
    }
   ],
   "source": [
    "# Carrega dados\n",
    "df = pd.read_csv(\"../data/processed/data_cleaned.csv\")\n",
    "\n",
    "# Informações sobre as colunas\n",
    "print(\"N° de linhas e colunas: \", df.shape)\n",
    "\n",
    "# Visualiza os dados\n",
    "df.head()"
   ]
  },
  {
   "cell_type": "markdown",
   "id": "9362ee1e",
   "metadata": {},
   "source": [
    "### 1.a) Renomeia as classes da coluna `tipo` para facilitar a interpretação"
   ]
  },
  {
   "cell_type": "code",
   "execution_count": 3,
   "id": "842f867a",
   "metadata": {},
   "outputs": [
    {
     "name": "stdout",
     "output_type": "stream",
     "text": [
      "['Baixa' 'Média' 'Alta']\n"
     ]
    }
   ],
   "source": [
    "# Dicionário de mapeamento para o tipo de falha\n",
    "dict_type = {\n",
    "    'L': 'Baixa', \n",
    "    'M': 'Média', \n",
    "    'H': 'Alta'\n",
    "    }\n",
    "# Aplica o mapeamento\n",
    "df['tipo'] = df['tipo'].map(dict_type)\n",
    "print(df['tipo'].unique())\n"
   ]
  },
  {
   "cell_type": "markdown",
   "id": "00932dd8",
   "metadata": {},
   "source": [
    "### 1.b) Cria uma nova coluna para tipo de falha e mapeamento das classes"
   ]
  },
  {
   "cell_type": "code",
   "execution_count": 4,
   "id": "026881ae",
   "metadata": {},
   "outputs": [
    {
     "name": "stdout",
     "output_type": "stream",
     "text": [
      "\n",
      "Primeiras linhas com a nova coluna tipo_falha:\n"
     ]
    },
    {
     "data": {
      "text/html": [
       "<div>\n",
       "<style scoped>\n",
       "    .dataframe tbody tr th:only-of-type {\n",
       "        vertical-align: middle;\n",
       "    }\n",
       "\n",
       "    .dataframe tbody tr th {\n",
       "        vertical-align: top;\n",
       "    }\n",
       "\n",
       "    .dataframe thead th {\n",
       "        text-align: right;\n",
       "    }\n",
       "</style>\n",
       "<table border=\"1\" class=\"dataframe\">\n",
       "  <thead>\n",
       "    <tr style=\"text-align: right;\">\n",
       "      <th></th>\n",
       "      <th>tipo</th>\n",
       "      <th>temperatura_ar_[K]</th>\n",
       "      <th>temperatura_processo_[K]</th>\n",
       "      <th>umidade_relativa_[%]</th>\n",
       "      <th>velocidade_rotacional_[rpm]</th>\n",
       "      <th>torque_[Nm]</th>\n",
       "      <th>desgaste_da_ferramenta_[mm]</th>\n",
       "      <th>tipo_falha</th>\n",
       "      <th>falha_maquina</th>\n",
       "      <th>FDF</th>\n",
       "      <th>FDC</th>\n",
       "      <th>FP</th>\n",
       "      <th>FTE</th>\n",
       "      <th>FA</th>\n",
       "    </tr>\n",
       "  </thead>\n",
       "  <tbody>\n",
       "    <tr>\n",
       "      <th>0</th>\n",
       "      <td>Baixa</td>\n",
       "      <td>298.3</td>\n",
       "      <td>309.1</td>\n",
       "      <td>90.0</td>\n",
       "      <td>1616.0</td>\n",
       "      <td>31.1</td>\n",
       "      <td>195.0</td>\n",
       "      <td>Sem falhas</td>\n",
       "      <td>0</td>\n",
       "      <td>0</td>\n",
       "      <td>0</td>\n",
       "      <td>0</td>\n",
       "      <td>0</td>\n",
       "      <td>0</td>\n",
       "    </tr>\n",
       "    <tr>\n",
       "      <th>1</th>\n",
       "      <td>Baixa</td>\n",
       "      <td>298.2</td>\n",
       "      <td>308.4</td>\n",
       "      <td>90.0</td>\n",
       "      <td>1388.0</td>\n",
       "      <td>53.8</td>\n",
       "      <td>137.0</td>\n",
       "      <td>Sem falhas</td>\n",
       "      <td>0</td>\n",
       "      <td>0</td>\n",
       "      <td>0</td>\n",
       "      <td>0</td>\n",
       "      <td>0</td>\n",
       "      <td>0</td>\n",
       "    </tr>\n",
       "    <tr>\n",
       "      <th>2</th>\n",
       "      <td>Baixa</td>\n",
       "      <td>298.2</td>\n",
       "      <td>307.8</td>\n",
       "      <td>90.0</td>\n",
       "      <td>1528.0</td>\n",
       "      <td>31.1</td>\n",
       "      <td>94.0</td>\n",
       "      <td>Sem falhas</td>\n",
       "      <td>0</td>\n",
       "      <td>0</td>\n",
       "      <td>0</td>\n",
       "      <td>0</td>\n",
       "      <td>0</td>\n",
       "      <td>0</td>\n",
       "    </tr>\n",
       "    <tr>\n",
       "      <th>3</th>\n",
       "      <td>Média</td>\n",
       "      <td>300.9</td>\n",
       "      <td>310.8</td>\n",
       "      <td>90.0</td>\n",
       "      <td>1599.0</td>\n",
       "      <td>33.0</td>\n",
       "      <td>7.0</td>\n",
       "      <td>Sem falhas</td>\n",
       "      <td>0</td>\n",
       "      <td>0</td>\n",
       "      <td>0</td>\n",
       "      <td>0</td>\n",
       "      <td>0</td>\n",
       "      <td>0</td>\n",
       "    </tr>\n",
       "    <tr>\n",
       "      <th>4</th>\n",
       "      <td>Baixa</td>\n",
       "      <td>299.6</td>\n",
       "      <td>310.5</td>\n",
       "      <td>90.0</td>\n",
       "      <td>1571.0</td>\n",
       "      <td>33.9</td>\n",
       "      <td>94.0</td>\n",
       "      <td>Sem falhas</td>\n",
       "      <td>0</td>\n",
       "      <td>0</td>\n",
       "      <td>0</td>\n",
       "      <td>0</td>\n",
       "      <td>0</td>\n",
       "      <td>0</td>\n",
       "    </tr>\n",
       "  </tbody>\n",
       "</table>\n",
       "</div>"
      ],
      "text/plain": [
       "    tipo  temperatura_ar_[K]  temperatura_processo_[K]  umidade_relativa_[%]  velocidade_rotacional_[rpm]  torque_[Nm]  desgaste_da_ferramenta_[mm]  tipo_falha  falha_maquina  FDF  FDC  FP  FTE  FA\n",
       "0  Baixa               298.3                     309.1                  90.0                       1616.0         31.1                        195.0  Sem falhas              0    0    0   0    0   0\n",
       "1  Baixa               298.2                     308.4                  90.0                       1388.0         53.8                        137.0  Sem falhas              0    0    0   0    0   0\n",
       "2  Baixa               298.2                     307.8                  90.0                       1528.0         31.1                         94.0  Sem falhas              0    0    0   0    0   0\n",
       "3  Média               300.9                     310.8                  90.0                       1599.0         33.0                          7.0  Sem falhas              0    0    0   0    0   0\n",
       "4  Baixa               299.6                     310.5                  90.0                       1571.0         33.9                         94.0  Sem falhas              0    0    0   0    0   0"
      ]
     },
     "execution_count": 4,
     "metadata": {},
     "output_type": "execute_result"
    }
   ],
   "source": [
    "# Dicionário de mapeamento para o tipo de falha\n",
    "dict_tipo_falha = {\n",
    "    'FDF': 'Desgaste da Ferramenta', \n",
    "    'FDC': 'Dissipação de Calor', \n",
    "    'FP': 'Falha de Potência', \n",
    "    'FTE': 'Tensão Excessiva', \n",
    "    'FA': 'Falha Aleatória'\n",
    "    }\n",
    "\n",
    "# Função para determinar o tipo de falha\n",
    "def get_tipo_falha(row):\n",
    "    # Verifica cada coluna de falha\n",
    "    for col, desc in dict_tipo_falha.items():\n",
    "        if row[col] == 1:\n",
    "            return desc\n",
    "    return \"Sem falhas\"\n",
    "\n",
    "# Criar a nova coluna tipo_falha\n",
    "df['tipo_falha'] = df.apply(get_tipo_falha, axis=1)\n",
    "\n",
    "# Reorganiza a ordem das colunas\n",
    "cols_to_reorder = [\n",
    "    'tipo','temperatura_ar_[K]', \n",
    "    'temperatura_processo_[K]', \n",
    "    'umidade_relativa_[%]', \n",
    "    'velocidade_rotacional_[rpm]', \n",
    "    'torque_[Nm]', \n",
    "    'desgaste_da_ferramenta_[mm]', 'tipo_falha', 'falha_maquina', 'FDF', 'FDC', 'FP', 'FTE', 'FA']\n",
    "\n",
    "df = df[cols_to_reorder]\n",
    "\n",
    "# Exibir as primeiras linhas para verificar o resultado\n",
    "print(\"\\nPrimeiras linhas com a nova coluna tipo_falha:\")\n",
    "df.head()"
   ]
  },
  {
   "cell_type": "code",
   "execution_count": 5,
   "id": "59141c62",
   "metadata": {},
   "outputs": [],
   "source": [
    "\n",
    "# Seleciona as colunas categóricas\n",
    "categoric_cols = df.select_dtypes(include=['object']).columns.tolist()\n"
   ]
  },
  {
   "cell_type": "markdown",
   "id": "698fddfa",
   "metadata": {},
   "source": [
    "## 2. EDA"
   ]
  },
  {
   "cell_type": "markdown",
   "id": "e72fd74f",
   "metadata": {},
   "source": [
    "### 2.1. Análise de Atributos Numéricos\n",
    "\n",
    "\n",
    "**Insights Esperados:**"
   ]
  },
  {
   "cell_type": "code",
   "execution_count": 7,
   "id": "4e79679c",
   "metadata": {},
   "outputs": [
    {
     "data": {
      "text/plain": [
       "['temperatura_ar_[K]',\n",
       " 'temperatura_processo_[K]',\n",
       " 'umidade_relativa_[%]',\n",
       " 'velocidade_rotacional_[rpm]',\n",
       " 'torque_[Nm]',\n",
       " 'desgaste_da_ferramenta_[mm]']"
      ]
     },
     "execution_count": 7,
     "metadata": {},
     "output_type": "execute_result"
    }
   ],
   "source": [
    "# Declarando as colunas alvo\n",
    "target_cols = ['falha_maquina', 'FDF', 'FDC', 'FP', 'FTE', 'FA']\n",
    "\n",
    "# Seleciona as colunas numéricas\n",
    "numeric_cols = df.select_dtypes(include=[np.number]).columns.drop(target_cols).tolist()\n",
    "numeric_cols"
   ]
  },
  {
   "cell_type": "markdown",
   "id": "a4196957",
   "metadata": {},
   "source": [
    "#### Estatistica Descritiva"
   ]
  },
  {
   "cell_type": "code",
   "execution_count": 8,
   "id": "37acf2f7",
   "metadata": {},
   "outputs": [
    {
     "data": {
      "text/html": [
       "<div>\n",
       "<style scoped>\n",
       "    .dataframe tbody tr th:only-of-type {\n",
       "        vertical-align: middle;\n",
       "    }\n",
       "\n",
       "    .dataframe tbody tr th {\n",
       "        vertical-align: top;\n",
       "    }\n",
       "\n",
       "    .dataframe thead th {\n",
       "        text-align: right;\n",
       "    }\n",
       "</style>\n",
       "<table border=\"1\" class=\"dataframe\">\n",
       "  <thead>\n",
       "    <tr style=\"text-align: right;\">\n",
       "      <th></th>\n",
       "      <th>temperatura_ar_[K]</th>\n",
       "      <th>temperatura_processo_[K]</th>\n",
       "      <th>umidade_relativa_[%]</th>\n",
       "      <th>velocidade_rotacional_[rpm]</th>\n",
       "      <th>torque_[Nm]</th>\n",
       "      <th>desgaste_da_ferramenta_[mm]</th>\n",
       "    </tr>\n",
       "  </thead>\n",
       "  <tbody>\n",
       "    <tr>\n",
       "      <th>count</th>\n",
       "      <td>33236.000000</td>\n",
       "      <td>33236.000000</td>\n",
       "      <td>33236.0</td>\n",
       "      <td>33236.000000</td>\n",
       "      <td>33236.000000</td>\n",
       "      <td>33236.000000</td>\n",
       "    </tr>\n",
       "    <tr>\n",
       "      <th>mean</th>\n",
       "      <td>299.859956</td>\n",
       "      <td>309.941521</td>\n",
       "      <td>90.0</td>\n",
       "      <td>1499.690697</td>\n",
       "      <td>40.987333</td>\n",
       "      <td>103.788242</td>\n",
       "    </tr>\n",
       "    <tr>\n",
       "      <th>std</th>\n",
       "      <td>1.786606</td>\n",
       "      <td>1.330804</td>\n",
       "      <td>0.0</td>\n",
       "      <td>98.474083</td>\n",
       "      <td>7.732534</td>\n",
       "      <td>59.878756</td>\n",
       "    </tr>\n",
       "    <tr>\n",
       "      <th>min</th>\n",
       "      <td>295.500000</td>\n",
       "      <td>305.900000</td>\n",
       "      <td>90.0</td>\n",
       "      <td>1236.000000</td>\n",
       "      <td>17.300000</td>\n",
       "      <td>0.000000</td>\n",
       "    </tr>\n",
       "    <tr>\n",
       "      <th>25%</th>\n",
       "      <td>298.500000</td>\n",
       "      <td>308.900000</td>\n",
       "      <td>90.0</td>\n",
       "      <td>1435.000000</td>\n",
       "      <td>35.600000</td>\n",
       "      <td>58.000000</td>\n",
       "    </tr>\n",
       "    <tr>\n",
       "      <th>50%</th>\n",
       "      <td>299.600000</td>\n",
       "      <td>309.800000</td>\n",
       "      <td>90.0</td>\n",
       "      <td>1483.000000</td>\n",
       "      <td>40.600000</td>\n",
       "      <td>94.000000</td>\n",
       "    </tr>\n",
       "    <tr>\n",
       "      <th>75%</th>\n",
       "      <td>301.000000</td>\n",
       "      <td>310.800000</td>\n",
       "      <td>90.0</td>\n",
       "      <td>1556.000000</td>\n",
       "      <td>46.300000</td>\n",
       "      <td>154.000000</td>\n",
       "    </tr>\n",
       "    <tr>\n",
       "      <th>max</th>\n",
       "      <td>304.500000</td>\n",
       "      <td>313.800000</td>\n",
       "      <td>90.0</td>\n",
       "      <td>1772.000000</td>\n",
       "      <td>63.500000</td>\n",
       "      <td>253.000000</td>\n",
       "    </tr>\n",
       "  </tbody>\n",
       "</table>\n",
       "</div>"
      ],
      "text/plain": [
       "       temperatura_ar_[K]  temperatura_processo_[K]  umidade_relativa_[%]  velocidade_rotacional_[rpm]   torque_[Nm]  desgaste_da_ferramenta_[mm]\n",
       "count        33236.000000              33236.000000               33236.0                 33236.000000  33236.000000                 33236.000000\n",
       "mean           299.859956                309.941521                  90.0                  1499.690697     40.987333                   103.788242\n",
       "std              1.786606                  1.330804                   0.0                    98.474083      7.732534                    59.878756\n",
       "min            295.500000                305.900000                  90.0                  1236.000000     17.300000                     0.000000\n",
       "25%            298.500000                308.900000                  90.0                  1435.000000     35.600000                    58.000000\n",
       "50%            299.600000                309.800000                  90.0                  1483.000000     40.600000                    94.000000\n",
       "75%            301.000000                310.800000                  90.0                  1556.000000     46.300000                   154.000000\n",
       "max            304.500000                313.800000                  90.0                  1772.000000     63.500000                   253.000000"
      ]
     },
     "execution_count": 8,
     "metadata": {},
     "output_type": "execute_result"
    }
   ],
   "source": [
    "# Estatística Descritiva\n",
    "df[numeric_cols].describe()"
   ]
  },
  {
   "cell_type": "markdown",
   "id": "ebd7230f",
   "metadata": {},
   "source": [
    "#### Verfificando as Distribuições Univariadas"
   ]
  },
  {
   "cell_type": "markdown",
   "id": "cb536d27",
   "metadata": {},
   "source": [
    "#### Variável Alvo (falha_maquina)"
   ]
  },
  {
   "cell_type": "code",
   "execution_count": 9,
   "id": "2f89bee6",
   "metadata": {},
   "outputs": [
    {
     "name": "stdout",
     "output_type": "stream",
     "text": [
      "Variável Alvo Desbalanceada, classe=1 (falha) abaixo de 10%\n"
     ]
    },
    {
     "data": {
      "image/png": "[encoded data removed]",
      "text/plain": [
       "<Figure size 1000x600 with 1 Axes>"
      ]
     },
     "metadata": {},
     "output_type": "display_data"
    }
   ],
   "source": [
    "# Distribuição da Variável Target\n",
    "plt.figure(figsize=(10, 6))\n",
    "ax = df['falha_maquina'].value_counts(normalize=True).plot(kind='bar', title='Distribuição da Variável Target')\n",
    "\n",
    "# Adiciona rótulos nas barras\n",
    "for i, v in enumerate(df['falha_maquina'].value_counts(normalize=True)):\n",
    "    ax.text(i, v, f'{v:.1%}', ha='center', va='bottom')\n",
    "\n",
    "plt.xlabel('Falha (0: Não, 1: Sim)')\n",
    "plt.ylabel('Freq. Relativa (%)')\n",
    "\n",
    "if df['falha_maquina'].value_counts(normalize=True)[1] < 0.1:\n",
    "    print(\"Variável Alvo Desbalanceada, classe=1 (falha) abaixo de 10%\")\n",
    "else:\n",
    "    print(\"Variável Alvo Não Desbalanceada\")\n",
    "\n",
    "plt.tight_layout()"
   ]
  },
  {
   "cell_type": "markdown",
   "id": "751e7de0",
   "metadata": {},
   "source": [
    "**Comentários**:\n",
    "- A variável alvo `falha_maquina` esta altamente desbalanceada, havendo poucos registros de falhas.\n",
    "- Desta forma, vamos separar um dataframe somente para os casos de falha."
   ]
  },
  {
   "cell_type": "code",
   "execution_count": 10,
   "id": "7a7a286c",
   "metadata": {},
   "outputs": [
    {
     "data": {
      "text/plain": [
       "tipo_falha\n",
       "Dissipação de Calor       40.582524\n",
       "Tensão Excessiva          26.796117\n",
       "Sem falhas                15.145631\n",
       "Desgaste da Ferramenta    11.456311\n",
       "Falha de Potência          5.825243\n",
       "Falha Aleatória            0.194175\n",
       "Name: proportion, dtype: float64"
      ]
     },
     "execution_count": 10,
     "metadata": {},
     "output_type": "execute_result"
    }
   ],
   "source": [
    "# Criar um dataframe com falhas e sem falhas\n",
    "df_falhas = df[df['falha_maquina'] == 1]\n",
    "\n",
    "df_falhas['tipo_falha'].value_counts(normalize=True) *100"
   ]
  },
  {
   "cell_type": "markdown",
   "id": "4c22fd81",
   "metadata": {},
   "source": [
    "**Obs.:** É possível vê que mesmo após realizar o subset (apenas com falha_maquina=1), ainda assim há dados como \"sem falhas\". Vamos remover estes dados."
   ]
  },
  {
   "cell_type": "code",
   "execution_count": 11,
   "id": "d16e2289",
   "metadata": {},
   "outputs": [
    {
     "data": {
      "image/png": "[encoded data removed]",
      "text/plain": [
       "<Figure size 1200x600 with 2 Axes>"
      ]
     },
     "metadata": {},
     "output_type": "display_data"
    },
    {
     "data": {
      "text/plain": [
       "(tipo_falha\n",
       " Dissipação de Calor       47.826087\n",
       " Tensão Excessiva          31.578947\n",
       " Desgaste da Ferramenta    13.501144\n",
       " Falha de Potência          6.864989\n",
       " Falha Aleatória            0.228833\n",
       " Name: proportion, dtype: float64,\n",
       " tipo_falha\n",
       " Dissipação de Calor        47.826087\n",
       " Tensão Excessiva           79.405034\n",
       " Desgaste da Ferramenta     92.906178\n",
       " Falha de Potência          99.771167\n",
       " Falha Aleatória           100.000000\n",
       " Name: proportion, dtype: float64)"
      ]
     },
     "execution_count": 11,
     "metadata": {},
     "output_type": "execute_result"
    }
   ],
   "source": [
    "df_falhas = df_falhas[df_falhas['tipo_falha'] != 'Sem falhas']\n",
    "\n",
    "# Plotar o gráfico de Pareto\n",
    "plot_pareto(df_falhas, col='tipo_falha', normalize=True, cutoff=0.80, rotate_xticks=45, title='Pareto de falhas')"
   ]
  },
  {
   "cell_type": "code",
   "execution_count": 12,
   "id": "52932ffb",
   "metadata": {},
   "outputs": [
    {
     "data": {
      "text/html": [
       "<div>\n",
       "<style scoped>\n",
       "    .dataframe tbody tr th:only-of-type {\n",
       "        vertical-align: middle;\n",
       "    }\n",
       "\n",
       "    .dataframe tbody tr th {\n",
       "        vertical-align: top;\n",
       "    }\n",
       "\n",
       "    .dataframe thead th {\n",
       "        text-align: right;\n",
       "    }\n",
       "</style>\n",
       "<table border=\"1\" class=\"dataframe\">\n",
       "  <thead>\n",
       "    <tr style=\"text-align: right;\">\n",
       "      <th></th>\n",
       "      <th>tipo_falha</th>\n",
       "      <th>tipo</th>\n",
       "      <th>count</th>\n",
       "      <th>% de Falhas</th>\n",
       "    </tr>\n",
       "  </thead>\n",
       "  <tbody>\n",
       "    <tr>\n",
       "      <th>3</th>\n",
       "      <td>Dissipação de Calor</td>\n",
       "      <td>Baixa</td>\n",
       "      <td>136</td>\n",
       "      <td>31.12</td>\n",
       "    </tr>\n",
       "    <tr>\n",
       "      <th>10</th>\n",
       "      <td>Tensão Excessiva</td>\n",
       "      <td>Baixa</td>\n",
       "      <td>132</td>\n",
       "      <td>30.21</td>\n",
       "    </tr>\n",
       "    <tr>\n",
       "      <th>4</th>\n",
       "      <td>Dissipação de Calor</td>\n",
       "      <td>Média</td>\n",
       "      <td>57</td>\n",
       "      <td>13.04</td>\n",
       "    </tr>\n",
       "    <tr>\n",
       "      <th>0</th>\n",
       "      <td>Desgaste da Ferramenta</td>\n",
       "      <td>Baixa</td>\n",
       "      <td>41</td>\n",
       "      <td>9.38</td>\n",
       "    </tr>\n",
       "    <tr>\n",
       "      <th>7</th>\n",
       "      <td>Falha de Potência</td>\n",
       "      <td>Baixa</td>\n",
       "      <td>18</td>\n",
       "      <td>4.12</td>\n",
       "    </tr>\n",
       "    <tr>\n",
       "      <th>1</th>\n",
       "      <td>Desgaste da Ferramenta</td>\n",
       "      <td>Média</td>\n",
       "      <td>16</td>\n",
       "      <td>3.66</td>\n",
       "    </tr>\n",
       "    <tr>\n",
       "      <th>5</th>\n",
       "      <td>Dissipação de Calor</td>\n",
       "      <td>Alta</td>\n",
       "      <td>16</td>\n",
       "      <td>3.66</td>\n",
       "    </tr>\n",
       "    <tr>\n",
       "      <th>8</th>\n",
       "      <td>Falha de Potência</td>\n",
       "      <td>Média</td>\n",
       "      <td>11</td>\n",
       "      <td>2.52</td>\n",
       "    </tr>\n",
       "    <tr>\n",
       "      <th>11</th>\n",
       "      <td>Tensão Excessiva</td>\n",
       "      <td>Média</td>\n",
       "      <td>4</td>\n",
       "      <td>0.92</td>\n",
       "    </tr>\n",
       "    <tr>\n",
       "      <th>2</th>\n",
       "      <td>Desgaste da Ferramenta</td>\n",
       "      <td>Alta</td>\n",
       "      <td>2</td>\n",
       "      <td>0.46</td>\n",
       "    </tr>\n",
       "    <tr>\n",
       "      <th>12</th>\n",
       "      <td>Tensão Excessiva</td>\n",
       "      <td>Alta</td>\n",
       "      <td>2</td>\n",
       "      <td>0.46</td>\n",
       "    </tr>\n",
       "    <tr>\n",
       "      <th>6</th>\n",
       "      <td>Falha Aleatória</td>\n",
       "      <td>Baixa</td>\n",
       "      <td>1</td>\n",
       "      <td>0.23</td>\n",
       "    </tr>\n",
       "    <tr>\n",
       "      <th>9</th>\n",
       "      <td>Falha de Potência</td>\n",
       "      <td>Alta</td>\n",
       "      <td>1</td>\n",
       "      <td>0.23</td>\n",
       "    </tr>\n",
       "  </tbody>\n",
       "</table>\n",
       "</div>"
      ],
      "text/plain": [
       "                tipo_falha   tipo  count  % de Falhas\n",
       "3      Dissipação de Calor  Baixa    136        31.12\n",
       "10        Tensão Excessiva  Baixa    132        30.21\n",
       "4      Dissipação de Calor  Média     57        13.04\n",
       "0   Desgaste da Ferramenta  Baixa     41         9.38\n",
       "7        Falha de Potência  Baixa     18         4.12\n",
       "1   Desgaste da Ferramenta  Média     16         3.66\n",
       "5      Dissipação de Calor   Alta     16         3.66\n",
       "8        Falha de Potência  Média     11         2.52\n",
       "11        Tensão Excessiva  Média      4         0.92\n",
       "2   Desgaste da Ferramenta   Alta      2         0.46\n",
       "12        Tensão Excessiva   Alta      2         0.46\n",
       "6          Falha Aleatória  Baixa      1         0.23\n",
       "9        Falha de Potência   Alta      1         0.23"
      ]
     },
     "execution_count": 12,
     "metadata": {},
     "output_type": "execute_result"
    }
   ],
   "source": [
    "df_falhas_tipo = df_falhas.groupby('tipo_falha')['tipo'].value_counts().reset_index()\n",
    "df_falhas_tipo['% de Falhas'] = round(df_falhas_tipo['count'] / df_falhas_tipo['count'].sum() * 100, 2)\n",
    "df_falhas_tipo.sort_values(by='% de Falhas', ascending=False, inplace=True)\n",
    "df_falhas_tipo"
   ]
  },
  {
   "cell_type": "markdown",
   "id": "11c63afe",
   "metadata": {},
   "source": [
    "#### Variável Tipo"
   ]
  },
  {
   "cell_type": "code",
   "execution_count": 13,
   "id": "98f95a17",
   "metadata": {},
   "outputs": [
    {
     "data": {
      "text/plain": [
       "Text(0, 0.5, 'Freq. Relativa (%)')"
      ]
     },
     "execution_count": 13,
     "metadata": {},
     "output_type": "execute_result"
    },
    {
     "data": {
      "image/png": "[encoded data removed]",
      "text/plain": [
       "<Figure size 1000x600 with 1 Axes>"
      ]
     },
     "metadata": {},
     "output_type": "display_data"
    }
   ],
   "source": [
    "# Distribuição da Variável Target\n",
    "plt.figure(figsize=(10, 6))\n",
    "ax = df['tipo'].value_counts(normalize=True).plot(kind='bar', title='Distribuição da Variável Tipo')\n",
    "\n",
    "# Adiciona rótulos nas barras\n",
    "for i, v in enumerate(df['tipo'].value_counts(normalize=True)):\n",
    "    ax.text(i, v, f'{v:.1%}', ha='center', va='bottom')\n",
    "    plt.setp(ax.get_xticklabels(), rotation=45, ha='right')\n",
    "\n",
    "plt.xlabel('Tipo')\n",
    "plt.ylabel('Freq. Relativa (%)')"
   ]
  },
  {
   "cell_type": "code",
   "execution_count": 14,
   "id": "cdde18c4",
   "metadata": {},
   "outputs": [
    {
     "data": {
      "text/plain": [
       "<Axes: xlabel='tipo_falha', ylabel='count'>"
      ]
     },
     "execution_count": 14,
     "metadata": {},
     "output_type": "execute_result"
    },
    {
     "data": {
      "image/png": "[encoded data removed]",
      "text/plain": [
       "<Figure size 1500x600 with 1 Axes>"
      ]
     },
     "metadata": {},
     "output_type": "display_data"
    }
   ],
   "source": [
    "# Criar um gráfico pareto para a variável 'tipo_falha'\n",
    "plt.figure(figsize=(15, 6))\n",
    "sns.countplot(x='tipo_falha', data=df_falhas, hue='tipo', order=df_falhas['tipo_falha'].value_counts().index)"
   ]
  },
  {
   "cell_type": "code",
   "execution_count": null,
   "id": "2843b5aa",
   "metadata": {},
   "outputs": [],
   "source": [
    "# Criar um dataframe com falhas e sem falhas\n",
    "df_falhas = df[df['falha_maquina'] == 1]\n",
    "\n",
    "df_falhas_tipo = df_falhas.groupby('tipo')['tipo_falha'].value_counts().reset_index()\n",
    "df_falhas_tipo['% de Falhas'] = round(df_falhas_tipo['count'] / df_falhas_tipo['count'].sum() * 100, 2)\n",
    "df_falhas_tipo.sort_values(by='% de Falhas', ascending=False, inplace=True)\n",
    "df_falhas_tipo"
   ]
  },
  {
   "cell_type": "code",
   "execution_count": null,
   "id": "f9b2f4fa",
   "metadata": {},
   "outputs": [],
   "source": [
    "# Criar um gráfico pareto para a variável 'tipo_falha'\n",
    "plt.figure(figsize=(15, 6))\n",
    "sns.countplot(x='tipo_falha', data=df_falhas, hue='tipo', order=df_falhas['tipo_falha'].value_counts().index)\n",
    "plt.show()\n",
    "\n"
   ]
  },
  {
   "cell_type": "code",
   "execution_count": null,
   "id": "bb4cb897",
   "metadata": {},
   "outputs": [],
   "source": [
    "# Criar um gráfico pareto para a variável 'tipo_falha'\n",
    "plt.figure(figsize=(15, 6))\n",
    "sns.countplot(x='tipo_falha', data=df_falhas, hue='tipo', order=df_falhas['tipo_falha'].value_counts().index)\n",
    "plt.show()"
   ]
  },
  {
   "cell_type": "code",
   "execution_count": null,
   "id": "80be9a67",
   "metadata": {},
   "outputs": [],
   "source": [
    "# Plot bar graphic\n",
    "plt.figure(figsize=(15, 6))\n",
    "ax = sns.countplot(data=df_falhas, x='tipo_falha')\n",
    "plt.title('Proportion of Failures')\n",
    "plt.xlabel('Type')\n",
    "plt.ylabel('Count')\n",
    "\n",
    "ax = sns.countplot(data=df_falhas, x = 'tipo_falha')\n",
    "\n",
    "# Add as percentages as labels\n",
    "total = len(df_falhas['tipo_falha'])\n",
    "for p in ax.patches:\n",
    "    height = p.get_height()\n",
    "    percentage = (height / total) * 100\n",
    "    ax.annotate(f'{percentage:.2f}%', (p.get_x() + p.get_width() / 2, height),\n",
    "                ha='center', va='bottom')\n",
    "\n",
    "plt.show()"
   ]
  },
  {
   "cell_type": "code",
   "execution_count": null,
   "id": "940d9d5c",
   "metadata": {},
   "outputs": [],
   "source": [
    "plot_distribution_and_boxplot_hue_safe(df_falhas, numeric_cols, hue_col='tipo')"
   ]
  }
 ],
 "metadata": {
  "kernelspec": {
   "display_name": ".venv",
   "language": "python",
   "name": "python3"
  },
  "language_info": {
   "codemirror_mode": {
    "name": "ipython",
    "version": 3
   },
   "file_extension": ".py",
   "mimetype": "text/x-python",
   "name": "python",
   "nbconvert_exporter": "python",
   "pygments_lexer": "ipython3",
   "version": "3.12.7"
  }
 },
 "nbformat": 4,
 "nbformat_minor": 5
}
